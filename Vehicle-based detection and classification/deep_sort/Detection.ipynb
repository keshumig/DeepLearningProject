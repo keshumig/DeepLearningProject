{
 "cells": [
  {
   "cell_type": "code",
   "execution_count": null,
   "id": "70da8758",
   "metadata": {},
   "outputs": [],
   "source": [
    "import numpy as np"
   ]
  },
  {
   "cell_type": "code",
   "execution_count": null,
   "id": "28804733",
   "metadata": {},
   "outputs": [],
   "source": [
    "'''\n",
    "This code defines a Python class called \"Detection\", which represents an object detection result.\n",
    "The class has four attributes: \"tlwh\" which is a numpy array representing the top-left point, width, and \n",
    "height of the bounding box of the detected object, \"confidence\" which is a float indicating the confidence \n",
    "score of the detection, \"cls\" which represents the class label of the detection, and \"feature\" \n",
    "which is a numpy array representing a feature vector of the detected object.\n",
    "'''\n",
    "\n",
    "class Detections(object):\n",
    "   \n",
    "\n",
    "    def __init__(self, tlwh, confidence, cls, feature):\n",
    "        self.tlwh = np.asarray(tlwh, dtype=np.float)\n",
    "        self.confidence = float(confidence)\n",
    "        self.cls = cls\n",
    "        self.feature = np.asarray(feature, dtype=np.float32)\n",
    "\n",
    "'''\n",
    "The \"to_tlbr\" method returns a numpy array that represents the bounding box\n",
    "of the detected object in the format of\n",
    "top-left and bottom-right\n",
    "coordinates.\n",
    "'''        \n",
    "\n",
    "    def to_tlbrs(self):\n",
    "       \n",
    "        \n",
    "        ret = self.tlwh.copy()\n",
    "        ret[2:] += ret[:2]\n",
    "        return ret\n",
    "\n",
    "'''\n",
    "The \"tlbr_midpoint\" static method takes a bounding box in the format of top-left and bottom-right coordinates \n",
    "and returns the midpoint of the bounding box in the format of x, y coordinates.\n",
    "'''    \n",
    "\n",
    "    @staticmethod\n",
    "    def tlbr_midpoints(box):\n",
    "        \n",
    "        minX, minY, maxX, maxY = box\n",
    "        midpoint = (int((minX+maxX)/2), int((minY+maxY)/2))\n",
    "        return midpoint\n",
    "\n",
    "'''\n",
    "The \"to_points\" method returns a numpy array that represents the bounding box of the detected object in the \n",
    "format of x, y, aspect ratio, and height. The aspect ratio is computed by\n",
    "dividing the width by the height of the bounding box.\n",
    "'''\n",
    "    def to_points(self):\n",
    "        \n",
    "        ret = self.tlwh.copy()\n",
    "        ret[:2] += ret[2:] / 2\n",
    "        ret[2] /= ret[3]\n",
    "        return ret"
   ]
  }
 ],
 "metadata": {
  "kernelspec": {
   "display_name": "Python 3 (ipykernel)",
   "language": "python",
   "name": "python3"
  },
  "language_info": {
   "codemirror_mode": {
    "name": "ipython",
    "version": 3
   },
   "file_extension": ".py",
   "mimetype": "text/x-python",
   "name": "python",
   "nbconvert_exporter": "python",
   "pygments_lexer": "ipython3",
   "version": "3.10.9"
  }
 },
 "nbformat": 4,
 "nbformat_minor": 5
}
