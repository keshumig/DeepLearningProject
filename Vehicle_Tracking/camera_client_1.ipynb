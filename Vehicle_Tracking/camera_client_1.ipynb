{
 "cells": [
  {
   "cell_type": "code",
   "execution_count": null,
   "id": "b150c8e3",
   "metadata": {},
   "outputs": [],
   "source": [
    "from imutils.video import VideoStream\n",
    "import imagezmq\n",
    "\n",
    "\n",
    "path = \"rtsp://192.168.1.77:8080//h264_ulaw.sdp\"  # change to your IP stream address\n",
    "cap = VideoStream(path)\n",
    "\n",
    "sender = imagezmq.ImageSender(connect_to='tcp://localhost:5566')  # change to IP address and port of server thread\n",
    "cam_id = 'Camera 2'  # this name will be displayed on the corresponding camera stream\n",
    "\n",
    "stream = cap.start()\n",
    "\n",
    "while True:\n",
    "\n",
    "    frame = stream.read()\n",
    "    sender.send_image(cam_id, frame)"
   ]
  }
 ],
 "metadata": {
  "kernelspec": {
   "display_name": "Python 3 (ipykernel)",
   "language": "python",
   "name": "python3"
  },
  "language_info": {
   "codemirror_mode": {
    "name": "ipython",
    "version": 3
   },
   "file_extension": ".py",
   "mimetype": "text/x-python",
   "name": "python",
   "nbconvert_exporter": "python",
   "pygments_lexer": "ipython3",
   "version": "3.10.9"
  }
 },
 "nbformat": 4,
 "nbformat_minor": 5
}
