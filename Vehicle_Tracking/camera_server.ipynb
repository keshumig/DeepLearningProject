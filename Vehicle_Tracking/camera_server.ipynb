{
 "cells": [
  {
   "cell_type": "code",
   "execution_count": null,
   "id": "774b91a4",
   "metadata": {},
   "outputs": [],
   "source": [
    "from base_camera import BaseCamera\n",
    "import time\n",
    "import cv2\n",
    "\n",
    "\n",
    "class Camera(BaseCamera):\n",
    "\n",
    "    def __init__(self, feed_type, device, image_hub):\n",
    "        super(Camera, self).__init__(feed_type, device, image_hub)\n",
    "\n",
    "    @classmethod\n",
    "    def server_frames(cls, image_hub):\n",
    "        num_frames = 0\n",
    "        total_time = 0\n",
    "        while True:  # main loop\n",
    "            time_start = time.time()\n",
    "\n",
    "            cam_id, frame = image_hub.recv_image()\n",
    "            image_hub.send_reply(b'OK')  # this is needed for the stream to work with REQ/REP pattern\n",
    "\n",
    "            num_frames += 1\n",
    "\n",
    "            time_now = time.time()\n",
    "            total_time += time_now - time_start\n",
    "            fps = num_frames / total_time\n",
    "\n",
    "            # uncomment below to see FPS of camera stream\n",
    "            # cv2.putText(frame, \"FPS: %.2f\" % fps, (int(20), int(40 * 5e-3 * frame.shape[0])), 0, 2e-3 * frame.shape[0],(255, 255, 255), 2)\n",
    "\n",
    "            yield cam_id, frame"
   ]
  }
 ],
 "metadata": {
  "kernelspec": {
   "display_name": "Python 3 (ipykernel)",
   "language": "python",
   "name": "python3"
  },
  "language_info": {
   "codemirror_mode": {
    "name": "ipython",
    "version": 3
   },
   "file_extension": ".py",
   "mimetype": "text/x-python",
   "name": "python",
   "nbconvert_exporter": "python",
   "pygments_lexer": "ipython3",
   "version": "3.10.9"
  }
 },
 "nbformat": 4,
 "nbformat_minor": 5
}
