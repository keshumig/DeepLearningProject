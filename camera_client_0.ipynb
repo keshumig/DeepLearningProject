{
 "cells": [
  {
   "cell_type": "code",
   "execution_count": null,
   "id": "51032ed5",
   "metadata": {},
   "outputs": [],
   "source": [
    "# Import required libraries\n",
    "from imutils.video import VideoStream  # For capturing video frames\n",
    "import imagezmq  # For sending image frames over the network\n",
    "\n",
    "# Set the IP address and port of the video stream\n",
    "path = \"rtsp://192.168.1.70:8080//h264_ulaw.sdp\"\n",
    "\n",
    "# Create a VideoStream object to read frames from the video stream\n",
    "cap = VideoStream(path)\n",
    "\n",
    "# Create an ImageSender object to send image frames over the network\n",
    "sender = imagezmq.ImageSender(connect_to='tcp://localhost:5555')\n",
    "\n",
    "# Set the camera ID, which will be used to identify the stream on the server\n",
    "cam_id = 'Camera 1'\n",
    "\n",
    "# Start reading frames from the video stream\n",
    "stream = cap.start()\n",
    "\n",
    "# Loop forever, sending each frame as it becomes available\n",
    "while True:\n",
    "\n",
    "    # Read the next frame from the stream\n",
    "    frame = stream.read()\n",
    "\n",
    "    # Send the frame to the server\n",
    "    sender.send_image(cam_id, frame)\n"
   ]
  }
 ],
 "metadata": {
  "kernelspec": {
   "display_name": "Python 3 (ipykernel)",
   "language": "python",
   "name": "python3"
  },
  "language_info": {
   "codemirror_mode": {
    "name": "ipython",
    "version": 3
   },
   "file_extension": ".py",
   "mimetype": "text/x-python",
   "name": "python",
   "nbconvert_exporter": "python",
   "pygments_lexer": "ipython3",
   "version": "3.10.9"
  }
 },
 "nbformat": 4,
 "nbformat_minor": 5
}
