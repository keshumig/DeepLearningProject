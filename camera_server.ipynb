{
 "cells": [
  {
   "cell_type": "code",
   "execution_count": null,
   "id": "f7509e3f",
   "metadata": {},
   "outputs": [],
   "source": [
    "from base_camera import BaseCamera\n",
    "import time\n",
    "import cv2\n",
    "\n",
    "##This code defines a Camera class that inherits from BaseCamera and includes a method called \n",
    "##server_frames that yields video frames from a camera stream.\n",
    "\n",
    "\n",
    "\n",
    "class Camera(BaseCamera):\n",
    "\n",
    "#The __init__ method initializes the Camera object with a feed_type, device, and port_list which are passed to the BaseCamera constructor.\n",
    "#The server_frames method is a static method (meaning it does not need an instance of the class to be called) that takes an image_hub parameter. The image_hub is an instance of imagezmq.\n",
    "#ImageHub which is used to receive video frames from a client.\n",
    "    def __init__(self, feed_type, device, port_list):\n",
    "        super(Camera, self).__init__(feed_type, device, port_list)\n",
    "\n",
    "    @staticmethod\n",
    "    def server_frames(image_hub):\n",
    "        num_frames = 0\n",
    "        total_time = 0\n",
    "        \n",
    "        #The while loop inside the server_frames method runs continuously and receives video frames using the recv_image method of the image_hub object. The recv_image method blocks until a new frame is available. Once a frame is received, it is assigned to the frame variable \n",
    "        ##and the cam_id (camera ID) is also received using the same method.\n",
    "        while True:  # main loop\n",
    "            time_start = time.time()\n",
    "            \n",
    "\n",
    "            cam_id, frame = image_hub.recv_image()\n",
    "            image_hub.send_reply(b'OK')  # this is needed for the stream to work with REQ/REP pattern\n",
    "\n",
    "            num_frames += 1\n",
    "\n",
    "            time_now = time.time()\n",
    "            total_time += time_now - time_start\n",
    "            fps = num_frames / total_time\n",
    "\n",
    " \n",
    "            yield cam_id, frame"
   ]
  }
 ],
 "metadata": {
  "kernelspec": {
   "display_name": "Python 3 (ipykernel)",
   "language": "python",
   "name": "python3"
  },
  "language_info": {
   "codemirror_mode": {
    "name": "ipython",
    "version": 3
   },
   "file_extension": ".py",
   "mimetype": "text/x-python",
   "name": "python",
   "nbconvert_exporter": "python",
   "pygments_lexer": "ipython3",
   "version": "3.10.9"
  }
 },
 "nbformat": 4,
 "nbformat_minor": 5
}
